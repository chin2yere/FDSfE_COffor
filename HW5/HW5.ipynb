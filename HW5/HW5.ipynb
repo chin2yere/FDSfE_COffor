{
  "nbformat": 4,
  "nbformat_minor": 0,
  "metadata": {
    "colab": {
      "provenance": [],
      "collapsed_sections": [],
      "include_colab_link": true
    },
    "kernelspec": {
      "name": "python3",
      "display_name": "Python 3"
    },
    "language_info": {
      "name": "python"
    }
  },
  "cells": [
    {
      "cell_type": "markdown",
      "metadata": {
        "id": "view-in-github",
        "colab_type": "text"
      },
      "source": [
        "<a href=\"https://colab.research.google.com/github/chin2yere/FDSfE_COffor/blob/main/HW5/HW5.ipynb\" target=\"_parent\"><img src=\"https://colab.research.google.com/assets/colab-badge.svg\" alt=\"Open In Colab\"/></a>"
      ]
    },
    {
      "cell_type": "markdown",
      "source": [
        "# **Multiple Linear Regression**\n",
        "\n",
        "---\n",
        "\n",
        "###Data\n",
        "\n",
        "The data used in this assignment contains a cleaned and curated version of the market real estate valuations collected from Sindian Dist., New Taipei City, Taiwan, by Prof. I-Cheng Yeh, Department of Civil Engineering, Tamkang University, Taiwan.\n",
        "\n",
        "The features in the data are the following:\n",
        "\n",
        "* ```transaction_date```: the transaction date (for example, 2013.250=2013 March, 2013.500=2013 June, etc.)\n",
        "* ```house_age```: the house age (unit: year)\n",
        "* ```distance_nearest_MRT_station```: the distance to the nearest MRT station (unit: meter)\n",
        "* ```convenience_stores```: the number of convenience stores in the living circle on foot (integer)\n",
        "\n",
        "The target is:\n",
        "* ```house_price_unit_area```house price of unit area (10000 New Taiwan Dollar/Ping, where Ping is a local unit, 1 Ping = 3.3 meter squared)\n",
        "\n",
        "---\n",
        "\n",
        "## HW instructions:\n",
        "\n",
        "Similar to what was done in class, your task is to do the following:\n",
        "1.   create a simple regression model that utilizes only one feature: the log10 of ```distance_nearest_MRT_station``` to predict the house price/unit area, and find the model's metrics ($R^2$ and Adjusted-$R^2$), as well as the the coeffient (slope) of the line.\n",
        "\n",
        "2.   create a multiple regression model that utilizes all features in the dataset to predict the house price/unit area, and find the model's metrics ($R^2$ and Adjusted-$R^2$), as well as the the coeffient for each variable.\n",
        "\n",
        "--"
      ],
      "metadata": {
        "id": "kBKIrBnIlHg8"
      }
    },
    {
      "cell_type": "code",
      "execution_count": 114,
      "metadata": {
        "id": "ATylBaqD5ljg"
      },
      "outputs": [],
      "source": [
        "# -- import libraries here\n",
        "import pandas as pd\n",
        "import numpy as np\n",
        "from sklearn.linear_model import LinearRegression\n",
        "import statsmodels.formula.api as smf\n"
      ]
    },
    {
      "cell_type": "markdown",
      "source": [
        "Read the data file from the class repo which can be found in the folder \"data\" and is called \"Real_estate.csv\""
      ],
      "metadata": {
        "id": "S4YEe0nUgWG1"
      }
    },
    {
      "cell_type": "code",
      "source": [
        "# -- your code here \n",
        "estate= pd.read_csv(\"https://raw.githubusercontent.com/fedhere/FDSfE_FBianco/main/data/Real_estate.csv\")\n"
      ],
      "metadata": {
        "id": "7vu7tgc3CrxL"
      },
      "execution_count": 115,
      "outputs": []
    },
    {
      "cell_type": "code",
      "source": [
        "estate.head()"
      ],
      "metadata": {
        "colab": {
          "base_uri": "https://localhost:8080/",
          "height": 206
        },
        "id": "gy-o4Td1AUsd",
        "outputId": "c254f446-9439-4faf-cc02-f12040708cb6"
      },
      "execution_count": 116,
      "outputs": [
        {
          "output_type": "execute_result",
          "data": {
            "text/plain": [
              "   transaction_date  house_age  distance_nearest_MRT_station  \\\n",
              "0          2012.917       32.0                      84.87882   \n",
              "1          2012.917       19.5                     306.59470   \n",
              "2          2013.583       13.3                     561.98450   \n",
              "3          2013.500       13.3                     561.98450   \n",
              "4          2012.833        5.0                     390.56840   \n",
              "\n",
              "   convenience_stores  house_price_unit_area  \n",
              "0                  10                   37.9  \n",
              "1                   9                   42.2  \n",
              "2                   5                   47.3  \n",
              "3                   5                   54.8  \n",
              "4                   5                   43.1  "
            ],
            "text/html": [
              "\n",
              "  <div id=\"df-e4892d3f-6d13-412e-9512-6a092eaf1785\">\n",
              "    <div class=\"colab-df-container\">\n",
              "      <div>\n",
              "<style scoped>\n",
              "    .dataframe tbody tr th:only-of-type {\n",
              "        vertical-align: middle;\n",
              "    }\n",
              "\n",
              "    .dataframe tbody tr th {\n",
              "        vertical-align: top;\n",
              "    }\n",
              "\n",
              "    .dataframe thead th {\n",
              "        text-align: right;\n",
              "    }\n",
              "</style>\n",
              "<table border=\"1\" class=\"dataframe\">\n",
              "  <thead>\n",
              "    <tr style=\"text-align: right;\">\n",
              "      <th></th>\n",
              "      <th>transaction_date</th>\n",
              "      <th>house_age</th>\n",
              "      <th>distance_nearest_MRT_station</th>\n",
              "      <th>convenience_stores</th>\n",
              "      <th>house_price_unit_area</th>\n",
              "    </tr>\n",
              "  </thead>\n",
              "  <tbody>\n",
              "    <tr>\n",
              "      <th>0</th>\n",
              "      <td>2012.917</td>\n",
              "      <td>32.0</td>\n",
              "      <td>84.87882</td>\n",
              "      <td>10</td>\n",
              "      <td>37.9</td>\n",
              "    </tr>\n",
              "    <tr>\n",
              "      <th>1</th>\n",
              "      <td>2012.917</td>\n",
              "      <td>19.5</td>\n",
              "      <td>306.59470</td>\n",
              "      <td>9</td>\n",
              "      <td>42.2</td>\n",
              "    </tr>\n",
              "    <tr>\n",
              "      <th>2</th>\n",
              "      <td>2013.583</td>\n",
              "      <td>13.3</td>\n",
              "      <td>561.98450</td>\n",
              "      <td>5</td>\n",
              "      <td>47.3</td>\n",
              "    </tr>\n",
              "    <tr>\n",
              "      <th>3</th>\n",
              "      <td>2013.500</td>\n",
              "      <td>13.3</td>\n",
              "      <td>561.98450</td>\n",
              "      <td>5</td>\n",
              "      <td>54.8</td>\n",
              "    </tr>\n",
              "    <tr>\n",
              "      <th>4</th>\n",
              "      <td>2012.833</td>\n",
              "      <td>5.0</td>\n",
              "      <td>390.56840</td>\n",
              "      <td>5</td>\n",
              "      <td>43.1</td>\n",
              "    </tr>\n",
              "  </tbody>\n",
              "</table>\n",
              "</div>\n",
              "      <button class=\"colab-df-convert\" onclick=\"convertToInteractive('df-e4892d3f-6d13-412e-9512-6a092eaf1785')\"\n",
              "              title=\"Convert this dataframe to an interactive table.\"\n",
              "              style=\"display:none;\">\n",
              "        \n",
              "  <svg xmlns=\"http://www.w3.org/2000/svg\" height=\"24px\"viewBox=\"0 0 24 24\"\n",
              "       width=\"24px\">\n",
              "    <path d=\"M0 0h24v24H0V0z\" fill=\"none\"/>\n",
              "    <path d=\"M18.56 5.44l.94 2.06.94-2.06 2.06-.94-2.06-.94-.94-2.06-.94 2.06-2.06.94zm-11 1L8.5 8.5l.94-2.06 2.06-.94-2.06-.94L8.5 2.5l-.94 2.06-2.06.94zm10 10l.94 2.06.94-2.06 2.06-.94-2.06-.94-.94-2.06-.94 2.06-2.06.94z\"/><path d=\"M17.41 7.96l-1.37-1.37c-.4-.4-.92-.59-1.43-.59-.52 0-1.04.2-1.43.59L10.3 9.45l-7.72 7.72c-.78.78-.78 2.05 0 2.83L4 21.41c.39.39.9.59 1.41.59.51 0 1.02-.2 1.41-.59l7.78-7.78 2.81-2.81c.8-.78.8-2.07 0-2.86zM5.41 20L4 18.59l7.72-7.72 1.47 1.35L5.41 20z\"/>\n",
              "  </svg>\n",
              "      </button>\n",
              "      \n",
              "  <style>\n",
              "    .colab-df-container {\n",
              "      display:flex;\n",
              "      flex-wrap:wrap;\n",
              "      gap: 12px;\n",
              "    }\n",
              "\n",
              "    .colab-df-convert {\n",
              "      background-color: #E8F0FE;\n",
              "      border: none;\n",
              "      border-radius: 50%;\n",
              "      cursor: pointer;\n",
              "      display: none;\n",
              "      fill: #1967D2;\n",
              "      height: 32px;\n",
              "      padding: 0 0 0 0;\n",
              "      width: 32px;\n",
              "    }\n",
              "\n",
              "    .colab-df-convert:hover {\n",
              "      background-color: #E2EBFA;\n",
              "      box-shadow: 0px 1px 2px rgba(60, 64, 67, 0.3), 0px 1px 3px 1px rgba(60, 64, 67, 0.15);\n",
              "      fill: #174EA6;\n",
              "    }\n",
              "\n",
              "    [theme=dark] .colab-df-convert {\n",
              "      background-color: #3B4455;\n",
              "      fill: #D2E3FC;\n",
              "    }\n",
              "\n",
              "    [theme=dark] .colab-df-convert:hover {\n",
              "      background-color: #434B5C;\n",
              "      box-shadow: 0px 1px 3px 1px rgba(0, 0, 0, 0.15);\n",
              "      filter: drop-shadow(0px 1px 2px rgba(0, 0, 0, 0.3));\n",
              "      fill: #FFFFFF;\n",
              "    }\n",
              "  </style>\n",
              "\n",
              "      <script>\n",
              "        const buttonEl =\n",
              "          document.querySelector('#df-e4892d3f-6d13-412e-9512-6a092eaf1785 button.colab-df-convert');\n",
              "        buttonEl.style.display =\n",
              "          google.colab.kernel.accessAllowed ? 'block' : 'none';\n",
              "\n",
              "        async function convertToInteractive(key) {\n",
              "          const element = document.querySelector('#df-e4892d3f-6d13-412e-9512-6a092eaf1785');\n",
              "          const dataTable =\n",
              "            await google.colab.kernel.invokeFunction('convertToInteractive',\n",
              "                                                     [key], {});\n",
              "          if (!dataTable) return;\n",
              "\n",
              "          const docLinkHtml = 'Like what you see? Visit the ' +\n",
              "            '<a target=\"_blank\" href=https://colab.research.google.com/notebooks/data_table.ipynb>data table notebook</a>'\n",
              "            + ' to learn more about interactive tables.';\n",
              "          element.innerHTML = '';\n",
              "          dataTable['output_type'] = 'display_data';\n",
              "          await google.colab.output.renderOutput(dataTable, element);\n",
              "          const docLink = document.createElement('div');\n",
              "          docLink.innerHTML = docLinkHtml;\n",
              "          element.appendChild(docLink);\n",
              "        }\n",
              "      </script>\n",
              "    </div>\n",
              "  </div>\n",
              "  "
            ]
          },
          "metadata": {},
          "execution_count": 116
        }
      ]
    },
    {
      "cell_type": "code",
      "source": [
        "estate.tail()"
      ],
      "metadata": {
        "colab": {
          "base_uri": "https://localhost:8080/",
          "height": 206
        },
        "id": "KDIeVKQtAXQJ",
        "outputId": "558027cc-f3b8-4157-a4fb-267008da1ded"
      },
      "execution_count": 117,
      "outputs": [
        {
          "output_type": "execute_result",
          "data": {
            "text/plain": [
              "     transaction_date  house_age  distance_nearest_MRT_station  \\\n",
              "409          2013.000       13.7                    4082.01500   \n",
              "410          2012.667        5.6                      90.45606   \n",
              "411          2013.250       18.8                     390.96960   \n",
              "412          2013.000        8.1                     104.81010   \n",
              "413          2013.500        6.5                      90.45606   \n",
              "\n",
              "     convenience_stores  house_price_unit_area  \n",
              "409                   0                   15.4  \n",
              "410                   9                   50.0  \n",
              "411                   7                   40.6  \n",
              "412                   5                   52.5  \n",
              "413                   9                   63.9  "
            ],
            "text/html": [
              "\n",
              "  <div id=\"df-4abff2ee-3351-481f-a593-600b4ed820b1\">\n",
              "    <div class=\"colab-df-container\">\n",
              "      <div>\n",
              "<style scoped>\n",
              "    .dataframe tbody tr th:only-of-type {\n",
              "        vertical-align: middle;\n",
              "    }\n",
              "\n",
              "    .dataframe tbody tr th {\n",
              "        vertical-align: top;\n",
              "    }\n",
              "\n",
              "    .dataframe thead th {\n",
              "        text-align: right;\n",
              "    }\n",
              "</style>\n",
              "<table border=\"1\" class=\"dataframe\">\n",
              "  <thead>\n",
              "    <tr style=\"text-align: right;\">\n",
              "      <th></th>\n",
              "      <th>transaction_date</th>\n",
              "      <th>house_age</th>\n",
              "      <th>distance_nearest_MRT_station</th>\n",
              "      <th>convenience_stores</th>\n",
              "      <th>house_price_unit_area</th>\n",
              "    </tr>\n",
              "  </thead>\n",
              "  <tbody>\n",
              "    <tr>\n",
              "      <th>409</th>\n",
              "      <td>2013.000</td>\n",
              "      <td>13.7</td>\n",
              "      <td>4082.01500</td>\n",
              "      <td>0</td>\n",
              "      <td>15.4</td>\n",
              "    </tr>\n",
              "    <tr>\n",
              "      <th>410</th>\n",
              "      <td>2012.667</td>\n",
              "      <td>5.6</td>\n",
              "      <td>90.45606</td>\n",
              "      <td>9</td>\n",
              "      <td>50.0</td>\n",
              "    </tr>\n",
              "    <tr>\n",
              "      <th>411</th>\n",
              "      <td>2013.250</td>\n",
              "      <td>18.8</td>\n",
              "      <td>390.96960</td>\n",
              "      <td>7</td>\n",
              "      <td>40.6</td>\n",
              "    </tr>\n",
              "    <tr>\n",
              "      <th>412</th>\n",
              "      <td>2013.000</td>\n",
              "      <td>8.1</td>\n",
              "      <td>104.81010</td>\n",
              "      <td>5</td>\n",
              "      <td>52.5</td>\n",
              "    </tr>\n",
              "    <tr>\n",
              "      <th>413</th>\n",
              "      <td>2013.500</td>\n",
              "      <td>6.5</td>\n",
              "      <td>90.45606</td>\n",
              "      <td>9</td>\n",
              "      <td>63.9</td>\n",
              "    </tr>\n",
              "  </tbody>\n",
              "</table>\n",
              "</div>\n",
              "      <button class=\"colab-df-convert\" onclick=\"convertToInteractive('df-4abff2ee-3351-481f-a593-600b4ed820b1')\"\n",
              "              title=\"Convert this dataframe to an interactive table.\"\n",
              "              style=\"display:none;\">\n",
              "        \n",
              "  <svg xmlns=\"http://www.w3.org/2000/svg\" height=\"24px\"viewBox=\"0 0 24 24\"\n",
              "       width=\"24px\">\n",
              "    <path d=\"M0 0h24v24H0V0z\" fill=\"none\"/>\n",
              "    <path d=\"M18.56 5.44l.94 2.06.94-2.06 2.06-.94-2.06-.94-.94-2.06-.94 2.06-2.06.94zm-11 1L8.5 8.5l.94-2.06 2.06-.94-2.06-.94L8.5 2.5l-.94 2.06-2.06.94zm10 10l.94 2.06.94-2.06 2.06-.94-2.06-.94-.94-2.06-.94 2.06-2.06.94z\"/><path d=\"M17.41 7.96l-1.37-1.37c-.4-.4-.92-.59-1.43-.59-.52 0-1.04.2-1.43.59L10.3 9.45l-7.72 7.72c-.78.78-.78 2.05 0 2.83L4 21.41c.39.39.9.59 1.41.59.51 0 1.02-.2 1.41-.59l7.78-7.78 2.81-2.81c.8-.78.8-2.07 0-2.86zM5.41 20L4 18.59l7.72-7.72 1.47 1.35L5.41 20z\"/>\n",
              "  </svg>\n",
              "      </button>\n",
              "      \n",
              "  <style>\n",
              "    .colab-df-container {\n",
              "      display:flex;\n",
              "      flex-wrap:wrap;\n",
              "      gap: 12px;\n",
              "    }\n",
              "\n",
              "    .colab-df-convert {\n",
              "      background-color: #E8F0FE;\n",
              "      border: none;\n",
              "      border-radius: 50%;\n",
              "      cursor: pointer;\n",
              "      display: none;\n",
              "      fill: #1967D2;\n",
              "      height: 32px;\n",
              "      padding: 0 0 0 0;\n",
              "      width: 32px;\n",
              "    }\n",
              "\n",
              "    .colab-df-convert:hover {\n",
              "      background-color: #E2EBFA;\n",
              "      box-shadow: 0px 1px 2px rgba(60, 64, 67, 0.3), 0px 1px 3px 1px rgba(60, 64, 67, 0.15);\n",
              "      fill: #174EA6;\n",
              "    }\n",
              "\n",
              "    [theme=dark] .colab-df-convert {\n",
              "      background-color: #3B4455;\n",
              "      fill: #D2E3FC;\n",
              "    }\n",
              "\n",
              "    [theme=dark] .colab-df-convert:hover {\n",
              "      background-color: #434B5C;\n",
              "      box-shadow: 0px 1px 3px 1px rgba(0, 0, 0, 0.15);\n",
              "      filter: drop-shadow(0px 1px 2px rgba(0, 0, 0, 0.3));\n",
              "      fill: #FFFFFF;\n",
              "    }\n",
              "  </style>\n",
              "\n",
              "      <script>\n",
              "        const buttonEl =\n",
              "          document.querySelector('#df-4abff2ee-3351-481f-a593-600b4ed820b1 button.colab-df-convert');\n",
              "        buttonEl.style.display =\n",
              "          google.colab.kernel.accessAllowed ? 'block' : 'none';\n",
              "\n",
              "        async function convertToInteractive(key) {\n",
              "          const element = document.querySelector('#df-4abff2ee-3351-481f-a593-600b4ed820b1');\n",
              "          const dataTable =\n",
              "            await google.colab.kernel.invokeFunction('convertToInteractive',\n",
              "                                                     [key], {});\n",
              "          if (!dataTable) return;\n",
              "\n",
              "          const docLinkHtml = 'Like what you see? Visit the ' +\n",
              "            '<a target=\"_blank\" href=https://colab.research.google.com/notebooks/data_table.ipynb>data table notebook</a>'\n",
              "            + ' to learn more about interactive tables.';\n",
              "          element.innerHTML = '';\n",
              "          dataTable['output_type'] = 'display_data';\n",
              "          await google.colab.output.renderOutput(dataTable, element);\n",
              "          const docLink = document.createElement('div');\n",
              "          docLink.innerHTML = docLinkHtml;\n",
              "          element.appendChild(docLink);\n",
              "        }\n",
              "      </script>\n",
              "    </div>\n",
              "  </div>\n",
              "  "
            ]
          },
          "metadata": {},
          "execution_count": 117
        }
      ]
    },
    {
      "cell_type": "code",
      "source": [
        "estate.info()"
      ],
      "metadata": {
        "colab": {
          "base_uri": "https://localhost:8080/"
        },
        "id": "sIYsSlMZAc2d",
        "outputId": "7c1bccca-2542-4656-e872-b909365d5d45"
      },
      "execution_count": 118,
      "outputs": [
        {
          "output_type": "stream",
          "name": "stdout",
          "text": [
            "<class 'pandas.core.frame.DataFrame'>\n",
            "RangeIndex: 414 entries, 0 to 413\n",
            "Data columns (total 5 columns):\n",
            " #   Column                        Non-Null Count  Dtype  \n",
            "---  ------                        --------------  -----  \n",
            " 0   transaction_date              414 non-null    float64\n",
            " 1   house_age                     414 non-null    float64\n",
            " 2   distance_nearest_MRT_station  414 non-null    float64\n",
            " 3   convenience_stores            414 non-null    int64  \n",
            " 4   house_price_unit_area         414 non-null    float64\n",
            "dtypes: float64(4), int64(1)\n",
            "memory usage: 16.3 KB\n"
          ]
        }
      ]
    },
    {
      "cell_type": "markdown",
      "source": [
        "## Task 1: simple linear regression\n",
        "\n",
        "create a simple regression model that utilizes only one feature: the log10 of ```distance_nearest_MRT_station``` to predict the house price/unit area, and find the model's metrics ($R^2$ and Adjusted-$R^2$), as well as the the coeffient (slope) of the line.\n",
        "\n",
        "---\n"
      ],
      "metadata": {
        "id": "tP10cnl7UBJg"
      }
    },
    {
      "cell_type": "markdown",
      "source": [
        "Calculate the log10 of the ```distance_nearest_MRT_station``` column and add it as a new column to the data frame"
      ],
      "metadata": {
        "id": "YGx9scRQU8C0"
      }
    },
    {
      "cell_type": "code",
      "source": [
        "# -- your code here \n",
        "estate[\"log10_distance_nearest_MRT_station\"]= np.log10(estate[\"distance_nearest_MRT_station\"])\n",
        "estate"
      ],
      "metadata": {
        "id": "p4cNG_YBCr0M",
        "colab": {
          "base_uri": "https://localhost:8080/",
          "height": 424
        },
        "outputId": "300f312e-8f80-4a6e-d118-ef2f79a796c4"
      },
      "execution_count": 119,
      "outputs": [
        {
          "output_type": "execute_result",
          "data": {
            "text/plain": [
              "     transaction_date  house_age  distance_nearest_MRT_station  \\\n",
              "0            2012.917       32.0                      84.87882   \n",
              "1            2012.917       19.5                     306.59470   \n",
              "2            2013.583       13.3                     561.98450   \n",
              "3            2013.500       13.3                     561.98450   \n",
              "4            2012.833        5.0                     390.56840   \n",
              "..                ...        ...                           ...   \n",
              "409          2013.000       13.7                    4082.01500   \n",
              "410          2012.667        5.6                      90.45606   \n",
              "411          2013.250       18.8                     390.96960   \n",
              "412          2013.000        8.1                     104.81010   \n",
              "413          2013.500        6.5                      90.45606   \n",
              "\n",
              "     convenience_stores  house_price_unit_area  \\\n",
              "0                    10                   37.9   \n",
              "1                     9                   42.2   \n",
              "2                     5                   47.3   \n",
              "3                     5                   54.8   \n",
              "4                     5                   43.1   \n",
              "..                  ...                    ...   \n",
              "409                   0                   15.4   \n",
              "410                   9                   50.0   \n",
              "411                   7                   40.6   \n",
              "412                   5                   52.5   \n",
              "413                   9                   63.9   \n",
              "\n",
              "     log10_distance_nearest_MRT_station  \n",
              "0                              1.928799  \n",
              "1                              2.486565  \n",
              "2                              2.749724  \n",
              "3                              2.749724  \n",
              "4                              2.591697  \n",
              "..                                  ...  \n",
              "409                            3.610875  \n",
              "410                            1.956438  \n",
              "411                            2.592143  \n",
              "412                            2.020403  \n",
              "413                            1.956438  \n",
              "\n",
              "[414 rows x 6 columns]"
            ],
            "text/html": [
              "\n",
              "  <div id=\"df-0efd5854-2158-45a3-a397-69fd5ab9b948\">\n",
              "    <div class=\"colab-df-container\">\n",
              "      <div>\n",
              "<style scoped>\n",
              "    .dataframe tbody tr th:only-of-type {\n",
              "        vertical-align: middle;\n",
              "    }\n",
              "\n",
              "    .dataframe tbody tr th {\n",
              "        vertical-align: top;\n",
              "    }\n",
              "\n",
              "    .dataframe thead th {\n",
              "        text-align: right;\n",
              "    }\n",
              "</style>\n",
              "<table border=\"1\" class=\"dataframe\">\n",
              "  <thead>\n",
              "    <tr style=\"text-align: right;\">\n",
              "      <th></th>\n",
              "      <th>transaction_date</th>\n",
              "      <th>house_age</th>\n",
              "      <th>distance_nearest_MRT_station</th>\n",
              "      <th>convenience_stores</th>\n",
              "      <th>house_price_unit_area</th>\n",
              "      <th>log10_distance_nearest_MRT_station</th>\n",
              "    </tr>\n",
              "  </thead>\n",
              "  <tbody>\n",
              "    <tr>\n",
              "      <th>0</th>\n",
              "      <td>2012.917</td>\n",
              "      <td>32.0</td>\n",
              "      <td>84.87882</td>\n",
              "      <td>10</td>\n",
              "      <td>37.9</td>\n",
              "      <td>1.928799</td>\n",
              "    </tr>\n",
              "    <tr>\n",
              "      <th>1</th>\n",
              "      <td>2012.917</td>\n",
              "      <td>19.5</td>\n",
              "      <td>306.59470</td>\n",
              "      <td>9</td>\n",
              "      <td>42.2</td>\n",
              "      <td>2.486565</td>\n",
              "    </tr>\n",
              "    <tr>\n",
              "      <th>2</th>\n",
              "      <td>2013.583</td>\n",
              "      <td>13.3</td>\n",
              "      <td>561.98450</td>\n",
              "      <td>5</td>\n",
              "      <td>47.3</td>\n",
              "      <td>2.749724</td>\n",
              "    </tr>\n",
              "    <tr>\n",
              "      <th>3</th>\n",
              "      <td>2013.500</td>\n",
              "      <td>13.3</td>\n",
              "      <td>561.98450</td>\n",
              "      <td>5</td>\n",
              "      <td>54.8</td>\n",
              "      <td>2.749724</td>\n",
              "    </tr>\n",
              "    <tr>\n",
              "      <th>4</th>\n",
              "      <td>2012.833</td>\n",
              "      <td>5.0</td>\n",
              "      <td>390.56840</td>\n",
              "      <td>5</td>\n",
              "      <td>43.1</td>\n",
              "      <td>2.591697</td>\n",
              "    </tr>\n",
              "    <tr>\n",
              "      <th>...</th>\n",
              "      <td>...</td>\n",
              "      <td>...</td>\n",
              "      <td>...</td>\n",
              "      <td>...</td>\n",
              "      <td>...</td>\n",
              "      <td>...</td>\n",
              "    </tr>\n",
              "    <tr>\n",
              "      <th>409</th>\n",
              "      <td>2013.000</td>\n",
              "      <td>13.7</td>\n",
              "      <td>4082.01500</td>\n",
              "      <td>0</td>\n",
              "      <td>15.4</td>\n",
              "      <td>3.610875</td>\n",
              "    </tr>\n",
              "    <tr>\n",
              "      <th>410</th>\n",
              "      <td>2012.667</td>\n",
              "      <td>5.6</td>\n",
              "      <td>90.45606</td>\n",
              "      <td>9</td>\n",
              "      <td>50.0</td>\n",
              "      <td>1.956438</td>\n",
              "    </tr>\n",
              "    <tr>\n",
              "      <th>411</th>\n",
              "      <td>2013.250</td>\n",
              "      <td>18.8</td>\n",
              "      <td>390.96960</td>\n",
              "      <td>7</td>\n",
              "      <td>40.6</td>\n",
              "      <td>2.592143</td>\n",
              "    </tr>\n",
              "    <tr>\n",
              "      <th>412</th>\n",
              "      <td>2013.000</td>\n",
              "      <td>8.1</td>\n",
              "      <td>104.81010</td>\n",
              "      <td>5</td>\n",
              "      <td>52.5</td>\n",
              "      <td>2.020403</td>\n",
              "    </tr>\n",
              "    <tr>\n",
              "      <th>413</th>\n",
              "      <td>2013.500</td>\n",
              "      <td>6.5</td>\n",
              "      <td>90.45606</td>\n",
              "      <td>9</td>\n",
              "      <td>63.9</td>\n",
              "      <td>1.956438</td>\n",
              "    </tr>\n",
              "  </tbody>\n",
              "</table>\n",
              "<p>414 rows × 6 columns</p>\n",
              "</div>\n",
              "      <button class=\"colab-df-convert\" onclick=\"convertToInteractive('df-0efd5854-2158-45a3-a397-69fd5ab9b948')\"\n",
              "              title=\"Convert this dataframe to an interactive table.\"\n",
              "              style=\"display:none;\">\n",
              "        \n",
              "  <svg xmlns=\"http://www.w3.org/2000/svg\" height=\"24px\"viewBox=\"0 0 24 24\"\n",
              "       width=\"24px\">\n",
              "    <path d=\"M0 0h24v24H0V0z\" fill=\"none\"/>\n",
              "    <path d=\"M18.56 5.44l.94 2.06.94-2.06 2.06-.94-2.06-.94-.94-2.06-.94 2.06-2.06.94zm-11 1L8.5 8.5l.94-2.06 2.06-.94-2.06-.94L8.5 2.5l-.94 2.06-2.06.94zm10 10l.94 2.06.94-2.06 2.06-.94-2.06-.94-.94-2.06-.94 2.06-2.06.94z\"/><path d=\"M17.41 7.96l-1.37-1.37c-.4-.4-.92-.59-1.43-.59-.52 0-1.04.2-1.43.59L10.3 9.45l-7.72 7.72c-.78.78-.78 2.05 0 2.83L4 21.41c.39.39.9.59 1.41.59.51 0 1.02-.2 1.41-.59l7.78-7.78 2.81-2.81c.8-.78.8-2.07 0-2.86zM5.41 20L4 18.59l7.72-7.72 1.47 1.35L5.41 20z\"/>\n",
              "  </svg>\n",
              "      </button>\n",
              "      \n",
              "  <style>\n",
              "    .colab-df-container {\n",
              "      display:flex;\n",
              "      flex-wrap:wrap;\n",
              "      gap: 12px;\n",
              "    }\n",
              "\n",
              "    .colab-df-convert {\n",
              "      background-color: #E8F0FE;\n",
              "      border: none;\n",
              "      border-radius: 50%;\n",
              "      cursor: pointer;\n",
              "      display: none;\n",
              "      fill: #1967D2;\n",
              "      height: 32px;\n",
              "      padding: 0 0 0 0;\n",
              "      width: 32px;\n",
              "    }\n",
              "\n",
              "    .colab-df-convert:hover {\n",
              "      background-color: #E2EBFA;\n",
              "      box-shadow: 0px 1px 2px rgba(60, 64, 67, 0.3), 0px 1px 3px 1px rgba(60, 64, 67, 0.15);\n",
              "      fill: #174EA6;\n",
              "    }\n",
              "\n",
              "    [theme=dark] .colab-df-convert {\n",
              "      background-color: #3B4455;\n",
              "      fill: #D2E3FC;\n",
              "    }\n",
              "\n",
              "    [theme=dark] .colab-df-convert:hover {\n",
              "      background-color: #434B5C;\n",
              "      box-shadow: 0px 1px 3px 1px rgba(0, 0, 0, 0.15);\n",
              "      filter: drop-shadow(0px 1px 2px rgba(0, 0, 0, 0.3));\n",
              "      fill: #FFFFFF;\n",
              "    }\n",
              "  </style>\n",
              "\n",
              "      <script>\n",
              "        const buttonEl =\n",
              "          document.querySelector('#df-0efd5854-2158-45a3-a397-69fd5ab9b948 button.colab-df-convert');\n",
              "        buttonEl.style.display =\n",
              "          google.colab.kernel.accessAllowed ? 'block' : 'none';\n",
              "\n",
              "        async function convertToInteractive(key) {\n",
              "          const element = document.querySelector('#df-0efd5854-2158-45a3-a397-69fd5ab9b948');\n",
              "          const dataTable =\n",
              "            await google.colab.kernel.invokeFunction('convertToInteractive',\n",
              "                                                     [key], {});\n",
              "          if (!dataTable) return;\n",
              "\n",
              "          const docLinkHtml = 'Like what you see? Visit the ' +\n",
              "            '<a target=\"_blank\" href=https://colab.research.google.com/notebooks/data_table.ipynb>data table notebook</a>'\n",
              "            + ' to learn more about interactive tables.';\n",
              "          element.innerHTML = '';\n",
              "          dataTable['output_type'] = 'display_data';\n",
              "          await google.colab.output.renderOutput(dataTable, element);\n",
              "          const docLink = document.createElement('div');\n",
              "          docLink.innerHTML = docLinkHtml;\n",
              "          element.appendChild(docLink);\n",
              "        }\n",
              "      </script>\n",
              "    </div>\n",
              "  </div>\n",
              "  "
            ]
          },
          "metadata": {},
          "execution_count": 119
        }
      ]
    },
    {
      "cell_type": "markdown",
      "source": [
        "Standardize your feature and target data (setting their mean to 0 and standard deviation to 1)"
      ],
      "metadata": {
        "id": "RK2zIVwAVSlx"
      }
    },
    {
      "cell_type": "code",
      "source": [
        "# -- your code here\n",
        "features= estate[[\"log10_distance_nearest_MRT_station\"]]\n",
        "target= estate[\"house_price_unit_area\"]"
      ],
      "metadata": {
        "id": "rryGybFQFDja"
      },
      "execution_count": 120,
      "outputs": []
    },
    {
      "cell_type": "code",
      "source": [
        "features_s= (features-features.mean())/features.std()\n",
        "target_s= (target- target.mean())/target.std()"
      ],
      "metadata": {
        "id": "73dJCJrdFr98"
      },
      "execution_count": 121,
      "outputs": []
    },
    {
      "cell_type": "markdown",
      "source": [
        "Using the code library of your choice, fit a linear regression model to the data"
      ],
      "metadata": {
        "id": "RYDBgtWMVlSg"
      }
    },
    {
      "cell_type": "code",
      "source": [
        "# -- your code here\n",
        "mlr_s= LinearRegression()\n",
        "mlr_s.fit(features_s, target_s)"
      ],
      "metadata": {
        "id": "p_x1r6JYVksb",
        "colab": {
          "base_uri": "https://localhost:8080/"
        },
        "outputId": "dc6b340c-2a94-429a-be52-e132a2817345"
      },
      "execution_count": 122,
      "outputs": [
        {
          "output_type": "execute_result",
          "data": {
            "text/plain": [
              "LinearRegression()"
            ]
          },
          "metadata": {},
          "execution_count": 122
        }
      ]
    },
    {
      "cell_type": "markdown",
      "source": [
        "Print both the $R^2$ and Adjusted-$R^2$ of this model \n",
        "\n",
        "(+1 bonus point for using the `.format()` method in `print` to show the two values and round them to 3 decimal places)"
      ],
      "metadata": {
        "id": "k_hktZmTVs6m"
      }
    },
    {
      "cell_type": "code",
      "source": [
        "# -- your code here\n",
        "#r2 = 0.539\n",
        "#adjusted-r2 = 0.538\n",
        "R2=mlr_s.score(features_s, target_s)\n",
        "print(\"r2 ={0:.3f}\".format(R2))\n",
        "n=414\n",
        "p=1\n",
        "adj_r2 = 1-(1-R2)*(n-1)/(n-p-1)\n",
        "print(\"adjusted-r2 ={0:.3f}\".format(adj_r2))\n"
      ],
      "metadata": {
        "colab": {
          "base_uri": "https://localhost:8080/"
        },
        "id": "WIWsXaPKVdTr",
        "outputId": "b1a40221-7a34-45ca-eb76-446dedccdff0"
      },
      "execution_count": 123,
      "outputs": [
        {
          "output_type": "stream",
          "name": "stdout",
          "text": [
            "r2 =0.539\n",
            "adjusted-r2 =0.538\n"
          ]
        }
      ]
    },
    {
      "cell_type": "markdown",
      "source": [
        "Print the coefficient (slope) of the line"
      ],
      "metadata": {
        "id": "6spcmbZ-XQhs"
      }
    },
    {
      "cell_type": "code",
      "source": [
        "# -- your code here\n",
        "(slopee)= mlr_s.coef_\n",
        "print(\"coefficient = {0}\".format(slopee))\n"
      ],
      "metadata": {
        "colab": {
          "base_uri": "https://localhost:8080/"
        },
        "id": "aCKHU3o-VdjC",
        "outputId": "faa80cb0-3ad9-45fd-d1b1-892d1a5e5ea0"
      },
      "execution_count": 124,
      "outputs": [
        {
          "output_type": "stream",
          "name": "stdout",
          "text": [
            "coefficient = [-0.73433864]\n"
          ]
        }
      ]
    },
    {
      "cell_type": "code",
      "source": [
        "estate[\"house_price_unit_area1\"]=target_s"
      ],
      "metadata": {
        "id": "LrHLRaleOrE-"
      },
      "execution_count": 125,
      "outputs": []
    },
    {
      "cell_type": "markdown",
      "source": [
        "From looking at the coefficient, what can you say about the relationship between the feature (the distance to the nearest MRT station) and the target (the house price/unit area)?"
      ],
      "metadata": {
        "id": "EYs3arrqePbn"
      }
    },
    {
      "cell_type": "markdown",
      "source": [
        "the slope is negative and this means that there is a negative relationship between them. an increase in one value will lead to a decrease in another."
      ],
      "metadata": {
        "id": "gBsZRNV3ePV5"
      }
    },
    {
      "cell_type": "markdown",
      "source": [
        "Plot the actual vs. model predicted values for the house price/unit area for all log10(distance to MRT station) values in the data"
      ],
      "metadata": {
        "id": "MHqiI52lXvSr"
      }
    },
    {
      "cell_type": "code",
      "source": [
        "# -- your code here\n",
        "estate[\"prediction\"] = mlr_s.predict(features_s)\n",
        "\n",
        "estate.plot(\"house_price_unit_area1\", \"prediction\", kind=\"scatter\", alpha=0.5);"
      ],
      "metadata": {
        "colab": {
          "base_uri": "https://localhost:8080/",
          "height": 280
        },
        "id": "9Gblf2UCVdo4",
        "outputId": "8dbb88cd-8255-4954-cc3f-717134d15d63"
      },
      "execution_count": 126,
      "outputs": [
        {
          "output_type": "display_data",
          "data": {
            "text/plain": [
              "<Figure size 432x288 with 1 Axes>"
            ],
            "image/png": "[encoded data removed]"
          },
          "metadata": {
            "needs_background": "light"
          }
        }
      ]
    },
    {
      "cell_type": "markdown",
      "source": [
        "## Task 2: multiple linear regression (all variables)\n",
        "\n",
        "create a multiple regression model that utilizes all features to predict the house price/unit area, and find the model's metrics ($R^2$ and Adjusted-$R^2$), as well as the the coeffient for each variable.\n",
        "\n",
        "---"
      ],
      "metadata": {
        "id": "iFAO4QfCbgGN"
      }
    },
    {
      "cell_type": "markdown",
      "source": [
        "Make sure all your features and target columns are standardized, and that you are using all the features in the data frame (also make sure to use ```log10(distance_nearest_MRT_station)``` rather than ```distance_nearest_MRT_station``` as a feature)"
      ],
      "metadata": {
        "id": "PT2-ClOFcXjQ"
      }
    },
    {
      "cell_type": "code",
      "source": [
        "# -- your code here\n",
        "\n",
        "estate.columns"
      ],
      "metadata": {
        "id": "qc0keSNZZ4Zu",
        "colab": {
          "base_uri": "https://localhost:8080/"
        },
        "outputId": "8acbeb61-038c-4ad0-8848-2769f6f90f8d"
      },
      "execution_count": 127,
      "outputs": [
        {
          "output_type": "execute_result",
          "data": {
            "text/plain": [
              "Index(['transaction_date', 'house_age', 'distance_nearest_MRT_station',\n",
              "       'convenience_stores', 'house_price_unit_area',\n",
              "       'log10_distance_nearest_MRT_station', 'house_price_unit_area1',\n",
              "       'prediction'],\n",
              "      dtype='object')"
            ]
          },
          "metadata": {},
          "execution_count": 127
        }
      ]
    },
    {
      "cell_type": "code",
      "source": [
        "features1= estate[['transaction_date', 'house_age','log10_distance_nearest_MRT_station','convenience_stores' ]]\n",
        "features1_s= (features1-features1.mean())/features1.std()\n"
      ],
      "metadata": {
        "id": "TOFPLGQe6NqG"
      },
      "execution_count": 128,
      "outputs": []
    },
    {
      "cell_type": "code",
      "source": [
        "features1_s.info()"
      ],
      "metadata": {
        "colab": {
          "base_uri": "https://localhost:8080/"
        },
        "id": "AVuVwCCYC5Cz",
        "outputId": "06ccf5ac-8fda-49ac-eecd-8b54c45c4ccf"
      },
      "execution_count": 129,
      "outputs": [
        {
          "output_type": "stream",
          "name": "stdout",
          "text": [
            "<class 'pandas.core.frame.DataFrame'>\n",
            "RangeIndex: 414 entries, 0 to 413\n",
            "Data columns (total 4 columns):\n",
            " #   Column                              Non-Null Count  Dtype  \n",
            "---  ------                              --------------  -----  \n",
            " 0   transaction_date                    414 non-null    float64\n",
            " 1   house_age                           414 non-null    float64\n",
            " 2   log10_distance_nearest_MRT_station  414 non-null    float64\n",
            " 3   convenience_stores                  414 non-null    float64\n",
            "dtypes: float64(4)\n",
            "memory usage: 13.1 KB\n"
          ]
        }
      ]
    },
    {
      "cell_type": "markdown",
      "source": [
        "Using the code library of your choice, fit a multiple linear regression model to the data"
      ],
      "metadata": {
        "id": "sSYvBMkXcxjx"
      }
    },
    {
      "cell_type": "code",
      "source": [
        "# -- your code here\n",
        "mlr_s2= LinearRegression()\n",
        "mlr_s2.fit(features1_s, target_s)\n"
      ],
      "metadata": {
        "id": "_EPrB-FdZ4cE",
        "colab": {
          "base_uri": "https://localhost:8080/"
        },
        "outputId": "c33e193e-9502-4104-a4a8-9c515934399c"
      },
      "execution_count": 130,
      "outputs": [
        {
          "output_type": "execute_result",
          "data": {
            "text/plain": [
              "LinearRegression()"
            ]
          },
          "metadata": {},
          "execution_count": 130
        }
      ]
    },
    {
      "cell_type": "markdown",
      "source": [
        "Print the coefficients of each of the features"
      ],
      "metadata": {
        "id": "tlAbv9Gpc5Vz"
      }
    },
    {
      "cell_type": "code",
      "source": [
        "# -- your code here\n",
        "(ctd, cha,cld,ccs)=mlr_s2.coef_\n",
        "print(\"coefficient for log_dist_MRT = {0:.3}\".format(cld))\n",
        "print(\"coefficient for convenience_stores = {0:.3}\".format(ccs))\n",
        "print(\"coefficient for transaction_date = {0:.3}\".format(ctd))\n",
        "print(\"coefficient for house_age = {0:.3}\".format(cha))\n",
        "\n"
      ],
      "metadata": {
        "colab": {
          "base_uri": "https://localhost:8080/"
        },
        "id": "IQtGO6lcZ4eF",
        "outputId": "d4f38910-aada-4858-ed29-113bb4c9d80f"
      },
      "execution_count": 131,
      "outputs": [
        {
          "output_type": "stream",
          "name": "stdout",
          "text": [
            "coefficient for log_dist_MRT = -0.643\n",
            "coefficient for convenience_stores = 0.137\n",
            "coefficient for transaction_date = 0.152\n",
            "coefficient for house_age = -0.177\n"
          ]
        }
      ]
    },
    {
      "cell_type": "markdown",
      "source": [
        "What can you claim about the relative correlation and influence of each feature on the prediction of the target variable?"
      ],
      "metadata": {
        "id": "d5doqy3rdHLW"
      }
    },
    {
      "cell_type": "markdown",
      "source": [
        "from the coefficients, \n",
        "\n",
        "\n",
        "\n",
        "*   an increase in log_dist_MRT will lead to a decrease in the prediction of the target variable and vice versa.\n",
        "*   an increase in convenience_stores will lead to a increase in the prediction of the target variable.\n",
        "\n",
        "\n",
        "*   an increase in transaction_date will lead to a increase in the prediction of the target variable.\n",
        "*   an increase in house_age will lead to a decrease in the prediction of the target variable.\n",
        "\n",
        "\n",
        "\n",
        "\n",
        "\n"
      ],
      "metadata": {
        "id": "X63QO1tAdIgF"
      }
    },
    {
      "cell_type": "markdown",
      "source": [
        "Print the $R^2$ of this model"
      ],
      "metadata": {
        "id": "X8K0ZhrMdLcG"
      }
    },
    {
      "cell_type": "code",
      "source": [
        "# -- your code here\n",
        "R22=mlr_s2.score(features1_s, target_s)\n",
        "print(\"r2 ={0:.3f}\".format(R22))\n"
      ],
      "metadata": {
        "colab": {
          "base_uri": "https://localhost:8080/"
        },
        "id": "9Qc4BC8BVdy9",
        "outputId": "eea12aca-1094-4385-fe00-337b2bdfe0f8"
      },
      "execution_count": 132,
      "outputs": [
        {
          "output_type": "stream",
          "name": "stdout",
          "text": [
            "r2 =0.601\n"
          ]
        }
      ]
    },
    {
      "cell_type": "markdown",
      "source": [
        "Looking only at the $R^2$ scores for this model relative to the previous model in Task 1, would you say the model has improved with the addition of the remaining features or not? and Why?"
      ],
      "metadata": {
        "id": "7P5iogz_dSfD"
      }
    },
    {
      "cell_type": "markdown",
      "source": [
        "i would say yes it has improved. this is because the r-squared value has moved closer to 1."
      ],
      "metadata": {
        "id": "sMUCOhQOdXaE"
      }
    },
    {
      "cell_type": "markdown",
      "source": [
        "Print the Adjusted-$R^2$ of this model"
      ],
      "metadata": {
        "id": "zMWT8U7mdY0p"
      }
    },
    {
      "cell_type": "code",
      "source": [
        "# -- your code here\n",
        "n=414\n",
        "P=4\n",
        "Adj_r2 = 1-(1-R22)*(n-1)/(n-P-1)\n",
        "print(\"adjusted-r2 ={0:.3f}\".format(Adj_r2))"
      ],
      "metadata": {
        "colab": {
          "base_uri": "https://localhost:8080/"
        },
        "id": "tvV_wPfKVd1f",
        "outputId": "56cc92ae-fc42-4fe9-fff5-a06ee8284cc4"
      },
      "execution_count": 133,
      "outputs": [
        {
          "output_type": "stream",
          "name": "stdout",
          "text": [
            "adjusted-r2 =0.597\n"
          ]
        }
      ]
    },
    {
      "cell_type": "markdown",
      "source": [
        "Looking at both $R^2$ and Ajusted-$R^2$ scores for this model relative to the previous model in Task 1, would you say the model has improved with the addition of the remaining features or not? and Why?"
      ],
      "metadata": {
        "id": "xCpFXai6dkpL"
      }
    },
    {
      "cell_type": "markdown",
      "source": [
        "before the addition, adjusted-r2 =0.538. After the addition, adjusted-r2 =0.597.\n",
        "If we consider the adjusted r squared alone, i will say the model has improved because there was an increase in the value."
      ],
      "metadata": {
        "id": "4BO8fq6odqrA"
      }
    },
    {
      "cell_type": "markdown",
      "source": [
        "Plot the actual vs. model predicted values for the house price/unit area for all objects in the data. Is there any visible improvement in the quality of the prediction that you can claim from comparing this plot with the one from Task 2? "
      ],
      "metadata": {
        "id": "mgIAi9C9duLy"
      }
    },
    {
      "cell_type": "code",
      "source": [
        "# -- your code here\n",
        "estate[\"prediction2\"] = mlr_s2.predict(features1_s)\n",
        "estate.plot(\"house_price_unit_area1\", \"prediction2\", kind=\"scatter\", alpha=0.5,);"
      ],
      "metadata": {
        "colab": {
          "base_uri": "https://localhost:8080/",
          "height": 280
        },
        "id": "JOwT7fmfVd3x",
        "outputId": "ac083765-1c47-41ab-91cd-1dcebc56cd68"
      },
      "execution_count": 134,
      "outputs": [
        {
          "output_type": "display_data",
          "data": {
            "text/plain": [
              "<Figure size 432x288 with 1 Axes>"
            ],
            "image/png": "[encoded data removed]"
          },
          "metadata": {
            "needs_background": "light"
          }
        }
      ]
    },
    {
      "cell_type": "code",
      "source": [],
      "metadata": {
        "id": "yROgV9i-Vd-W"
      },
      "execution_count": 134,
      "outputs": []
    }
  ]
}
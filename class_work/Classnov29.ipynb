{
  "nbformat": 4,
  "nbformat_minor": 0,
  "metadata": {
    "colab": {
      "provenance": [],
      "authorship_tag": "ABX9TyOyBBK4q3sadRMW1JMG4tCv",
      "include_colab_link": true
    },
    "kernelspec": {
      "name": "python3",
      "display_name": "Python 3"
    },
    "language_info": {
      "name": "python"
    }
  },
  "cells": [
    {
      "cell_type": "markdown",
      "metadata": {
        "id": "view-in-github",
        "colab_type": "text"
      },
      "source": [
        "<a href=\"https://colab.research.google.com/github/chin2yere/FDSfE_COffor/blob/main/class_work/Classnov29.ipynb\" target=\"_parent\"><img src=\"https://colab.research.google.com/assets/colab-badge.svg\" alt=\"Open In Colab\"/></a>"
      ]
    },
    {
      "cell_type": "code",
      "execution_count": 1,
      "metadata": {
        "id": "_Ete5PmJGP3F"
      },
      "outputs": [],
      "source": [
        "import pandas as pd\n",
        "import numpy as np\n",
        "import pylab as plt"
      ]
    },
    {
      "cell_type": "code",
      "source": [
        "from sklearn.datasets import load_digits"
      ],
      "metadata": {
        "id": "KM2W0MS-iqmj"
      },
      "execution_count": 2,
      "outputs": []
    },
    {
      "cell_type": "code",
      "source": [
        "mnist = load_digits()"
      ],
      "metadata": {
        "id": "vR0iHrhTjCA-"
      },
      "execution_count": 3,
      "outputs": []
    },
    {
      "cell_type": "code",
      "source": [
        "mnist.keys()"
      ],
      "metadata": {
        "colab": {
          "base_uri": "https://localhost:8080/"
        },
        "id": "9F54bST6jF8O",
        "outputId": "0dc7a9f6-d1ca-4f6b-9b62-0c55d8214c26"
      },
      "execution_count": 5,
      "outputs": [
        {
          "output_type": "execute_result",
          "data": {
            "text/plain": [
              "dict_keys(['data', 'target', 'frame', 'feature_names', 'target_names', 'images', 'DESCR'])"
            ]
          },
          "metadata": {},
          "execution_count": 5
        }
      ]
    },
    {
      "cell_type": "code",
      "source": [
        "mnist.data"
      ],
      "metadata": {
        "colab": {
          "base_uri": "https://localhost:8080/"
        },
        "id": "VWD7fKFQjHUK",
        "outputId": "3eb827c6-566a-449b-8876-cbe8fb7ad1ee"
      },
      "execution_count": 6,
      "outputs": [
        {
          "output_type": "execute_result",
          "data": {
            "text/plain": [
              "array([[ 0.,  0.,  5., ...,  0.,  0.,  0.],\n",
              "       [ 0.,  0.,  0., ..., 10.,  0.,  0.],\n",
              "       [ 0.,  0.,  0., ..., 16.,  9.,  0.],\n",
              "       ...,\n",
              "       [ 0.,  0.,  1., ...,  6.,  0.,  0.],\n",
              "       [ 0.,  0.,  2., ..., 12.,  0.,  0.],\n",
              "       [ 0.,  0., 10., ..., 12.,  1.,  0.]])"
            ]
          },
          "metadata": {},
          "execution_count": 6
        }
      ]
    },
    {
      "cell_type": "code",
      "source": [
        "mnist.data.shape"
      ],
      "metadata": {
        "colab": {
          "base_uri": "https://localhost:8080/"
        },
        "id": "GT3h5sRWjnIc",
        "outputId": "9a54a5d5-c09c-413b-facd-ccc2dadb0bd2"
      },
      "execution_count": 7,
      "outputs": [
        {
          "output_type": "execute_result",
          "data": {
            "text/plain": [
              "(1797, 64)"
            ]
          },
          "metadata": {},
          "execution_count": 7
        }
      ]
    },
    {
      "cell_type": "code",
      "source": [
        "mnist.images.shape"
      ],
      "metadata": {
        "colab": {
          "base_uri": "https://localhost:8080/"
        },
        "id": "Ljy7X7zfjqmh",
        "outputId": "2bbadb36-36af-42c2-806a-6fc1179b0968"
      },
      "execution_count": 8,
      "outputs": [
        {
          "output_type": "execute_result",
          "data": {
            "text/plain": [
              "(1797, 8, 8)"
            ]
          },
          "metadata": {},
          "execution_count": 8
        }
      ]
    },
    {
      "cell_type": "code",
      "source": [
        "mnist.images[0]"
      ],
      "metadata": {
        "colab": {
          "base_uri": "https://localhost:8080/"
        },
        "id": "XBFRaI6Lj17M",
        "outputId": "1f59e6cf-0afd-4a92-cff2-aee5c151de12"
      },
      "execution_count": 10,
      "outputs": [
        {
          "output_type": "execute_result",
          "data": {
            "text/plain": [
              "array([[ 0.,  0.,  5., 13.,  9.,  1.,  0.,  0.],\n",
              "       [ 0.,  0., 13., 15., 10., 15.,  5.,  0.],\n",
              "       [ 0.,  3., 15.,  2.,  0., 11.,  8.,  0.],\n",
              "       [ 0.,  4., 12.,  0.,  0.,  8.,  8.,  0.],\n",
              "       [ 0.,  5.,  8.,  0.,  0.,  9.,  8.,  0.],\n",
              "       [ 0.,  4., 11.,  0.,  1., 12.,  7.,  0.],\n",
              "       [ 0.,  2., 14.,  5., 10., 12.,  0.,  0.],\n",
              "       [ 0.,  0.,  6., 13., 10.,  0.,  0.,  0.]])"
            ]
          },
          "metadata": {},
          "execution_count": 10
        }
      ]
    },
    {
      "cell_type": "code",
      "source": [
        "plt.imshow(mnist.images[0], cmap=\"binary\");"
      ],
      "metadata": {
        "colab": {
          "base_uri": "https://localhost:8080/",
          "height": 265
        },
        "id": "NKAUOUUPj9BL",
        "outputId": "60795f21-c255-4cca-b51e-48b584857288"
      },
      "execution_count": 12,
      "outputs": [
        {
          "output_type": "display_data",
          "data": {
            "text/plain": [
              "<Figure size 432x288 with 1 Axes>"
            ],
            "image/png": "[encoded data removed]"
          },
          "metadata": {
            "needs_background": "light"
          }
        }
      ]
    },
    {
      "cell_type": "code",
      "source": [
        "mnist.target.shape"
      ],
      "metadata": {
        "colab": {
          "base_uri": "https://localhost:8080/"
        },
        "id": "YY4vG3ZckNL-",
        "outputId": "f4841a65-a885-41b0-c17e-9e9d59e95320"
      },
      "execution_count": 14,
      "outputs": [
        {
          "output_type": "execute_result",
          "data": {
            "text/plain": [
              "(1797,)"
            ]
          },
          "metadata": {},
          "execution_count": 14
        }
      ]
    },
    {
      "cell_type": "code",
      "source": [
        "X= mnist.data\n",
        "y=mnist.target"
      ],
      "metadata": {
        "id": "b4haYcf_lK3e"
      },
      "execution_count": 15,
      "outputs": []
    },
    {
      "cell_type": "code",
      "source": [
        "from sklearn.model_selection import train_test_split"
      ],
      "metadata": {
        "id": "K25jm_BzlWF_"
      },
      "execution_count": 16,
      "outputs": []
    },
    {
      "cell_type": "code",
      "source": [
        "X_train, X_test, y_train, y_test= train_test_split(X,y,train_size=0.7, random_state=321, stratify=y)"
      ],
      "metadata": {
        "id": "ngWtS3Ozlcey"
      },
      "execution_count": 17,
      "outputs": []
    },
    {
      "cell_type": "code",
      "source": [
        "X_train.shape"
      ],
      "metadata": {
        "colab": {
          "base_uri": "https://localhost:8080/"
        },
        "id": "zmfksIZFmJFx",
        "outputId": "daaab4c2-2131-414c-fc9f-ec8d7380684c"
      },
      "execution_count": 18,
      "outputs": [
        {
          "output_type": "execute_result",
          "data": {
            "text/plain": [
              "(1257, 64)"
            ]
          },
          "metadata": {},
          "execution_count": 18
        }
      ]
    },
    {
      "cell_type": "code",
      "source": [
        "X_test.shape"
      ],
      "metadata": {
        "colab": {
          "base_uri": "https://localhost:8080/"
        },
        "id": "Wrhvs6u_mLgT",
        "outputId": "d328611f-fcbd-4f4f-e2c9-1e4296029539"
      },
      "execution_count": 19,
      "outputs": [
        {
          "output_type": "execute_result",
          "data": {
            "text/plain": [
              "(540, 64)"
            ]
          },
          "metadata": {},
          "execution_count": 19
        }
      ]
    },
    {
      "cell_type": "code",
      "source": [
        "y_train.shape"
      ],
      "metadata": {
        "colab": {
          "base_uri": "https://localhost:8080/"
        },
        "id": "LfrdLNPNmN7U",
        "outputId": "cc5a5c76-cf7d-4567-a74f-1104d4e9dbd4"
      },
      "execution_count": 20,
      "outputs": [
        {
          "output_type": "execute_result",
          "data": {
            "text/plain": [
              "(1257,)"
            ]
          },
          "metadata": {},
          "execution_count": 20
        }
      ]
    },
    {
      "cell_type": "code",
      "source": [
        "y_test.shape"
      ],
      "metadata": {
        "colab": {
          "base_uri": "https://localhost:8080/"
        },
        "id": "uLz3UI7FmPkV",
        "outputId": "81ae23ff-70d0-425a-8ab4-f005a478d8b7"
      },
      "execution_count": 21,
      "outputs": [
        {
          "output_type": "execute_result",
          "data": {
            "text/plain": [
              "(540,)"
            ]
          },
          "metadata": {},
          "execution_count": 21
        }
      ]
    },
    {
      "cell_type": "code",
      "source": [
        "from sklearn.neural_network import MLPClassifier"
      ],
      "metadata": {
        "id": "e6PQ7m1FmSCN"
      },
      "execution_count": 22,
      "outputs": []
    },
    {
      "cell_type": "code",
      "source": [
        "mlp = MLPClassifier(activation=\"relu\", hidden_layer_sizes=(40,40),\n",
        "                    random_state=4, verbose=1, max_iter=400)\n"
      ],
      "metadata": {
        "id": "koC0O2xAmuDE"
      },
      "execution_count": 37,
      "outputs": []
    },
    {
      "cell_type": "code",
      "source": [
        "mlp.fit(X_train, y_train)"
      ],
      "metadata": {
        "colab": {
          "base_uri": "https://localhost:8080/"
        },
        "id": "Zx_1y3BRnSLa",
        "outputId": "0ee6f9b6-97ec-4854-e0e3-7d5fb33629d4"
      },
      "execution_count": 38,
      "outputs": [
        {
          "output_type": "stream",
          "name": "stdout",
          "text": [
            "Iteration 1, loss = 13.37129463\n",
            "Iteration 2, loss = 7.35670227\n",
            "Iteration 3, loss = 5.14135243\n",
            "Iteration 4, loss = 3.39778902\n",
            "Iteration 5, loss = 2.48521928\n",
            "Iteration 6, loss = 1.98502229\n",
            "Iteration 7, loss = 1.59521458\n",
            "Iteration 8, loss = 1.28612080\n",
            "Iteration 9, loss = 1.05561440\n",
            "Iteration 10, loss = 0.90079981\n",
            "Iteration 11, loss = 0.76859662\n",
            "Iteration 12, loss = 0.66068034\n",
            "Iteration 13, loss = 0.56767775\n",
            "Iteration 14, loss = 0.49511492\n",
            "Iteration 15, loss = 0.43790064\n",
            "Iteration 16, loss = 0.38680166\n",
            "Iteration 17, loss = 0.34539347\n",
            "Iteration 18, loss = 0.30939637\n",
            "Iteration 19, loss = 0.28136096\n",
            "Iteration 20, loss = 0.25256167\n",
            "Iteration 21, loss = 0.22911425\n",
            "Iteration 22, loss = 0.20985363\n",
            "Iteration 23, loss = 0.19270634\n",
            "Iteration 24, loss = 0.17705582\n",
            "Iteration 25, loss = 0.16418303\n",
            "Iteration 26, loss = 0.15157124\n",
            "Iteration 27, loss = 0.14161005\n",
            "Iteration 28, loss = 0.13287921\n",
            "Iteration 29, loss = 0.12463326\n",
            "Iteration 30, loss = 0.11752481\n",
            "Iteration 31, loss = 0.10994645\n",
            "Iteration 32, loss = 0.10364721\n",
            "Iteration 33, loss = 0.09850336\n",
            "Iteration 34, loss = 0.09353548\n",
            "Iteration 35, loss = 0.08842367\n",
            "Iteration 36, loss = 0.08453227\n",
            "Iteration 37, loss = 0.07961338\n",
            "Iteration 38, loss = 0.07590719\n",
            "Iteration 39, loss = 0.07213875\n",
            "Iteration 40, loss = 0.06881575\n",
            "Iteration 41, loss = 0.06574499\n",
            "Iteration 42, loss = 0.06328743\n",
            "Iteration 43, loss = 0.05997177\n",
            "Iteration 44, loss = 0.05756744\n",
            "Iteration 45, loss = 0.05443239\n",
            "Iteration 46, loss = 0.05241630\n",
            "Iteration 47, loss = 0.05043136\n",
            "Iteration 48, loss = 0.04789759\n",
            "Iteration 49, loss = 0.04629718\n",
            "Iteration 50, loss = 0.04420678\n",
            "Iteration 51, loss = 0.04252073\n",
            "Iteration 52, loss = 0.04114252\n",
            "Iteration 53, loss = 0.03949296\n",
            "Iteration 54, loss = 0.03746861\n",
            "Iteration 55, loss = 0.03582242\n",
            "Iteration 56, loss = 0.03454538\n",
            "Iteration 57, loss = 0.03318104\n",
            "Iteration 58, loss = 0.03236896\n",
            "Iteration 59, loss = 0.03084111\n",
            "Iteration 60, loss = 0.03033401\n",
            "Iteration 61, loss = 0.02877482\n",
            "Iteration 62, loss = 0.02783971\n",
            "Iteration 63, loss = 0.02650263\n",
            "Iteration 64, loss = 0.02564353\n",
            "Iteration 65, loss = 0.02476339\n",
            "Iteration 66, loss = 0.02395593\n",
            "Iteration 67, loss = 0.02299259\n",
            "Iteration 68, loss = 0.02265394\n",
            "Iteration 69, loss = 0.02174200\n",
            "Iteration 70, loss = 0.02088387\n",
            "Iteration 71, loss = 0.02022068\n",
            "Iteration 72, loss = 0.01977794\n",
            "Iteration 73, loss = 0.01909149\n",
            "Iteration 74, loss = 0.01848668\n",
            "Iteration 75, loss = 0.01790940\n",
            "Iteration 76, loss = 0.01732971\n",
            "Iteration 77, loss = 0.01674496\n",
            "Iteration 78, loss = 0.01635592\n",
            "Iteration 79, loss = 0.01584861\n",
            "Iteration 80, loss = 0.01530622\n",
            "Iteration 81, loss = 0.01481386\n",
            "Iteration 82, loss = 0.01440326\n",
            "Iteration 83, loss = 0.01421504\n",
            "Iteration 84, loss = 0.01374571\n",
            "Iteration 85, loss = 0.01329195\n",
            "Iteration 86, loss = 0.01301559\n",
            "Iteration 87, loss = 0.01261367\n",
            "Iteration 88, loss = 0.01231020\n",
            "Iteration 89, loss = 0.01186154\n",
            "Iteration 90, loss = 0.01162850\n",
            "Iteration 91, loss = 0.01131563\n",
            "Iteration 92, loss = 0.01112558\n",
            "Iteration 93, loss = 0.01072639\n",
            "Iteration 94, loss = 0.01035424\n",
            "Iteration 95, loss = 0.01008350\n",
            "Iteration 96, loss = 0.00983794\n",
            "Iteration 97, loss = 0.00955268\n",
            "Iteration 98, loss = 0.00933947\n",
            "Iteration 99, loss = 0.00904440\n",
            "Iteration 100, loss = 0.00887104\n",
            "Iteration 101, loss = 0.00861540\n",
            "Iteration 102, loss = 0.00846211\n",
            "Iteration 103, loss = 0.00821896\n",
            "Iteration 104, loss = 0.00797287\n",
            "Iteration 105, loss = 0.00787993\n",
            "Iteration 106, loss = 0.00769383\n",
            "Iteration 107, loss = 0.00750358\n",
            "Iteration 108, loss = 0.00731954\n",
            "Iteration 109, loss = 0.00709841\n",
            "Iteration 110, loss = 0.00701193\n",
            "Iteration 111, loss = 0.00679597\n",
            "Iteration 112, loss = 0.00665576\n",
            "Iteration 113, loss = 0.00651980\n",
            "Iteration 114, loss = 0.00640464\n",
            "Iteration 115, loss = 0.00633241\n",
            "Iteration 116, loss = 0.00609623\n",
            "Iteration 117, loss = 0.00601496\n",
            "Iteration 118, loss = 0.00591170\n",
            "Iteration 119, loss = 0.00578661\n",
            "Iteration 120, loss = 0.00565397\n",
            "Iteration 121, loss = 0.00554828\n",
            "Iteration 122, loss = 0.00540108\n",
            "Iteration 123, loss = 0.00533649\n",
            "Iteration 124, loss = 0.00522995\n",
            "Iteration 125, loss = 0.00511231\n",
            "Iteration 126, loss = 0.00503103\n",
            "Iteration 127, loss = 0.00492659\n",
            "Iteration 128, loss = 0.00485683\n",
            "Iteration 129, loss = 0.00475987\n",
            "Iteration 130, loss = 0.00470101\n",
            "Iteration 131, loss = 0.00475859\n",
            "Iteration 132, loss = 0.00470659\n",
            "Iteration 133, loss = 0.00449713\n",
            "Iteration 134, loss = 0.00438330\n",
            "Iteration 135, loss = 0.00436851\n",
            "Iteration 136, loss = 0.00425139\n",
            "Iteration 137, loss = 0.00412074\n",
            "Iteration 138, loss = 0.00404397\n",
            "Iteration 139, loss = 0.00400187\n",
            "Iteration 140, loss = 0.00389451\n",
            "Iteration 141, loss = 0.00380077\n",
            "Iteration 142, loss = 0.00375208\n",
            "Iteration 143, loss = 0.00365623\n",
            "Iteration 144, loss = 0.00362456\n",
            "Iteration 145, loss = 0.00354202\n",
            "Iteration 146, loss = 0.00349396\n",
            "Iteration 147, loss = 0.00341947\n",
            "Iteration 148, loss = 0.00334654\n",
            "Iteration 149, loss = 0.00329148\n",
            "Iteration 150, loss = 0.00325924\n",
            "Iteration 151, loss = 0.00317993\n",
            "Training loss did not improve more than tol=0.000100 for 10 consecutive epochs. Stopping.\n"
          ]
        },
        {
          "output_type": "execute_result",
          "data": {
            "text/plain": [
              "MLPClassifier(hidden_layer_sizes=(40, 40), max_iter=400, random_state=4,\n",
              "              verbose=1)"
            ]
          },
          "metadata": {},
          "execution_count": 38
        }
      ]
    },
    {
      "cell_type": "code",
      "source": [
        "plt.plot(mlp.loss_curve_)"
      ],
      "metadata": {
        "colab": {
          "base_uri": "https://localhost:8080/",
          "height": 286
        },
        "id": "lwg2cVqvn74E",
        "outputId": "e5ad600b-ffda-446f-f026-404d545abaf4"
      },
      "execution_count": 39,
      "outputs": [
        {
          "output_type": "execute_result",
          "data": {
            "text/plain": [
              "[<matplotlib.lines.Line2D at 0x7f27f266f0d0>]"
            ]
          },
          "metadata": {},
          "execution_count": 39
        },
        {
          "output_type": "display_data",
          "data": {
            "text/plain": [
              "<Figure size 432x288 with 1 Axes>"
            ],
            "image/png": "[encoded data removed]"
          },
          "metadata": {
            "needs_background": "light"
          }
        }
      ]
    },
    {
      "cell_type": "code",
      "source": [
        "mlp.score(X_train, y_train)"
      ],
      "metadata": {
        "colab": {
          "base_uri": "https://localhost:8080/"
        },
        "id": "5kp-4zunn_lV",
        "outputId": "6465f305-d6a0-44c9-b69b-fc7b5b2fcb88"
      },
      "execution_count": 40,
      "outputs": [
        {
          "output_type": "execute_result",
          "data": {
            "text/plain": [
              "1.0"
            ]
          },
          "metadata": {},
          "execution_count": 40
        }
      ]
    },
    {
      "cell_type": "code",
      "source": [
        "mlp.score(X_test, y_test)"
      ],
      "metadata": {
        "colab": {
          "base_uri": "https://localhost:8080/"
        },
        "id": "CrkUlL_noHGi",
        "outputId": "05d385d6-8fbc-4811-d85b-7c19fdb73d8b"
      },
      "execution_count": 41,
      "outputs": [
        {
          "output_type": "execute_result",
          "data": {
            "text/plain": [
              "0.9648148148148148"
            ]
          },
          "metadata": {},
          "execution_count": 41
        }
      ]
    },
    {
      "cell_type": "code",
      "source": [
        "from sklearn.metrics import classification_report"
      ],
      "metadata": {
        "id": "Rau5s4PIoLSs"
      },
      "execution_count": 42,
      "outputs": []
    },
    {
      "cell_type": "code",
      "source": [
        "\n",
        "y_pred = mlp.predict(X_test)\n",
        "print(classification_report(y_test, y_pred))\n"
      ],
      "metadata": {
        "colab": {
          "base_uri": "https://localhost:8080/"
        },
        "id": "kEQ2zXKAoS7I",
        "outputId": "5c2371e3-9b92-456e-e7a9-debce1efdc19"
      },
      "execution_count": 43,
      "outputs": [
        {
          "output_type": "stream",
          "name": "stdout",
          "text": [
            "              precision    recall  f1-score   support\n",
            "\n",
            "           0       1.00      0.98      0.99        54\n",
            "           1       0.96      1.00      0.98        55\n",
            "           2       1.00      1.00      1.00        53\n",
            "           3       0.96      0.98      0.97        55\n",
            "           4       0.96      0.98      0.97        54\n",
            "           5       0.89      0.98      0.93        55\n",
            "           6       0.98      0.98      0.98        54\n",
            "           7       0.98      0.98      0.98        54\n",
            "           8       0.96      0.87      0.91        52\n",
            "           9       0.96      0.89      0.92        54\n",
            "\n",
            "    accuracy                           0.96       540\n",
            "   macro avg       0.97      0.96      0.96       540\n",
            "weighted avg       0.97      0.96      0.96       540\n",
            "\n"
          ]
        }
      ]
    },
    {
      "cell_type": "code",
      "source": [
        "from sklearn.metrics import confusion_matrix"
      ],
      "metadata": {
        "id": "OObjercUoZro"
      },
      "execution_count": 44,
      "outputs": []
    },
    {
      "cell_type": "code",
      "source": [
        "confusion_matrix(y_test, y_pred)"
      ],
      "metadata": {
        "colab": {
          "base_uri": "https://localhost:8080/"
        },
        "id": "5t6PFa93o6rf",
        "outputId": "d0d407b6-c3e1-4f83-b25c-41f79ae7984d"
      },
      "execution_count": 45,
      "outputs": [
        {
          "output_type": "execute_result",
          "data": {
            "text/plain": [
              "array([[53,  0,  0,  0,  0,  1,  0,  0,  0,  0],\n",
              "       [ 0, 55,  0,  0,  0,  0,  0,  0,  0,  0],\n",
              "       [ 0,  0, 53,  0,  0,  0,  0,  0,  0,  0],\n",
              "       [ 0,  0,  0, 54,  0,  1,  0,  0,  0,  0],\n",
              "       [ 0,  0,  0,  0, 53,  0,  1,  0,  0,  0],\n",
              "       [ 0,  0,  0,  0,  0, 54,  0,  0,  0,  1],\n",
              "       [ 0,  0,  0,  0,  0,  0, 53,  0,  1,  0],\n",
              "       [ 0,  0,  0,  0,  0,  1,  0, 53,  0,  0],\n",
              "       [ 0,  1,  0,  2,  2,  1,  0,  0, 45,  1],\n",
              "       [ 0,  1,  0,  0,  0,  3,  0,  1,  1, 48]])"
            ]
          },
          "metadata": {},
          "execution_count": 45
        }
      ]
    },
    {
      "cell_type": "code",
      "source": [],
      "metadata": {
        "id": "_tl4gqCmo_vu"
      },
      "execution_count": null,
      "outputs": []
    }
  ]
}